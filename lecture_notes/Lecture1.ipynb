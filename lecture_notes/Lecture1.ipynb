{
 "cells": [
  {
   "cell_type": "markdown",
   "metadata": {},
   "source": [
    "###Markdown Macros\n",
    "***\n",
    "$$\n",
    "\\newcommand{\\mymat}[1]{\n",
    "\\left[\n",
    "\\begin{array}{rrrrrrrrrrrrrrrrrrrrrrrrrrrrrrrrr}\n",
    "#1\n",
    "\\end{array}\n",
    "\\right]\n",
    "}\n",
    "\\newcommand{\\myp}[1]{\\left( #1 \\right)}\n",
    "\\newcommand{\\myb}[1]{\\left[ #1 \\right]}\n",
    "\\newcommand{\\myv}[1]{\\left< #1 \\right>}\n",
    "\\newcommand{\\mys}[1]{\\left\\{ #1 \\right\\}}\n",
    "\\newcommand{\\myab}[1]{\\left| #1 \\right|}\n",
    "\\newcommand{\\bx}{{\\bf x}}\n",
    "\\newcommand{\\by}{{\\bf y}}\n",
    "\\newcommand{\\bu}{{\\bf u}}\n",
    "\\newcommand{\\bv}{{\\bf v}}\n",
    "$$\n",
    "###Helper Functions\n",
    "***"
   ]
  },
  {
   "cell_type": "code",
   "execution_count": 1,
   "metadata": {
    "collapsed": true
   },
   "outputs": [
    {
     "name": "stderr",
     "output_type": "stream",
     "text": [
      "INFO: Loading help data...\n"
     ]
    }
   ],
   "source": [
    "using PyPlot"
   ]
  },
  {
   "cell_type": "code",
   "execution_count": 62,
   "metadata": {
    "collapsed": false
   },
   "outputs": [],
   "source": [
    "# User defined color dict \n",
    "mycolors = {\"green\"=>\"#6a9373\",\"red\"=>\"#a76c6e\",\"blue\"=>\"#657897\"}\n",
    "\n",
    "function figure1()\n",
    "    u = [1;2]\n",
    "    v = [3;1]\n",
    "    upv = u+v\n",
    "    sf = 0.96\n",
    "    arrow(0, 0, sf*u[1], sf*u[2], head_width=0.05, head_length=0.1, fc=mycolors[\"red\"], ec=mycolors[\"red\"])\n",
    "    figtext(.25,.40,\"u\")\n",
    "    arrow(0, 0, sf*v[1], sf*v[2], head_width=0.05, head_length=0.1, fc=mycolors[\"blue\"], ec=mycolors[\"blue\"])\n",
    "    figtext(.5,.20,\"v\")\n",
    "    ax = gca()\n",
    "    ax[:set_ylim]([0,3.5])\n",
    "    ax[:set_xlim]([0,3.5])\n",
    "    ax[:spines][\"top\"][:set_color](\"none\") \n",
    "    ax[:spines][\"right\"][:set_color](\"none\") \n",
    "    ax[:xaxis][:set_ticks_position](\"bottom\")\n",
    "    ax[:yaxis][:set_ticks_position](\"left\")\n",
    "    ax[:xaxis][:grid](\"True\")\n",
    "    ax[:yaxis][:grid](\"True\")\n",
    "    PyPlot.plt.yticks([0, 1, 2, 3],)\n",
    "    PyPlot.plt.xticks([0, 1, 2, 3],)\n",
    "    margins(0.3);\n",
    "end\n",
    "\n",
    "function figure2()\n",
    "    u = [1;2]\n",
    "    v = [3;1]\n",
    "    upv = u+v\n",
    "    sf = 0.96\n",
    "    arrow(0, 0, sf*u[1], sf*u[2], head_width=0.05, head_length=0.1, fc=mycolors[\"red\"], ec=mycolors[\"red\"])\n",
    "    figtext(.20,.30,\"u\")\n",
    "    arrow(0, 0, sf*v[1], sf*v[2], head_width=0.05, head_length=0.1, fc=mycolors[\"blue\"], ec=mycolors[\"blue\"])\n",
    "    figtext(.50,.20,\"v\")\n",
    "    arrow(u[1], u[2], sf*v[1], sf*v[2], head_width=0.05, head_length=0.1, fc=mycolors[\"blue\"], ec=mycolors[\"blue\"])\n",
    "    figtext(.75,.45,\"u\")\n",
    "    arrow(v[1], v[2], sf*u[1], sf*u[2], head_width=0.05, head_length=0.1, fc=mycolors[\"red\"], ec=mycolors[\"red\"])\n",
    "    figtext(.6,.575,\"v\")\n",
    "    arrow(0, 0, sf*upv[1], sf*upv[2], head_width=0.05, head_length=0.1, fc=mycolors[\"green\"], ec=mycolors[\"green\"])\n",
    "    figtext(.45,.4,\"u+v\")\n",
    "    ax = gca()\n",
    "    ax[:set_ylim]([0,4.5])\n",
    "    ax[:set_xlim]([0,4.5])\n",
    "    ax[:spines][\"top\"][:set_color](\"none\") \n",
    "    ax[:spines][\"right\"][:set_color](\"none\") \n",
    "    ax[:xaxis][:set_ticks_position](\"bottom\")\n",
    "    ax[:yaxis][:set_ticks_position](\"left\")\n",
    "    ax[:xaxis][:grid](\"True\")\n",
    "    ax[:yaxis][:grid](\"True\")\n",
    "    PyPlot.plt.yticks([0, 1, 2, 3, 4],)\n",
    "    PyPlot.plt.xticks([0, 1, 2, 3, 4],)\n",
    "    margins(0.3);\n",
    "end;"
   ]
  },
  {
   "cell_type": "markdown",
   "metadata": {},
   "source": [
    "#Lecture 1 \n",
    "\n",
    "***\n",
    "\n",
    "Linear algebra is the workhorse of mathematics, especially in the computational sciences.  In most computer simulations (physics simulation, big data analysis, Netflix, Google, video and audio compression, etc) 99% of simulation time is spent solving linear algebraic sytems.\n",
    "\n",
    "But how can this be? In high school you were mostly exposed to very tiny matrices.  2x2's, 3x3's, maybe 4x4's if your teacher was really mean.  But in real engineering applications you have to think bigger.  One way that Netflix might decide which movies to recommend to you involves analyzing a gigantic matrix where the rows represent each movie in the Netflix library and the columns represent each of their user's ratings of those movies.  To determine which webpages should come first in a Google search, they build a big matrix where each row and column represent a page on the web.  At last count (depending on the source) there were 30-50 **billion** pages in Google's search index.  That means it Google has to do analysis on a 30-50 billion by 30-50 billion matrix! \n",
    "\n",
    "So, Google, big data, physics simulations... all of these things positively rely on sophisticated linear algebra techniques.  But before we can get to any of these, we need to have a firm grasp on the basic principles, which is what we'll cover in this class. "
   ]
  },
  {
   "cell_type": "markdown",
   "metadata": {},
   "source": [
    "##Vectors \n",
    "\n",
    "What is a vector?  \n",
    "\n",
    "In the most general setting, a vector is just a list of numbers.  For example \n",
    "\n",
    "$$\n",
    "{\\bf u} = \n",
    "\\mymat{\n",
    "4 \\\\\n",
    "-1\n",
    "}\n",
    "\\quad \\textrm{or} \\quad\n",
    "{\\bf v} = \n",
    "\\mymat{\n",
    "1 \\\\ \n",
    "3 \\\\ \n",
    "5\n",
    "}\n",
    "$$\n",
    "\n",
    "Typically we'll represent vectors using bold lowercase letters (usually, ${\\bf x}, \\hspace{1mm} {\\bf y},\\hspace{1mm} {\\bf u}, \\hspace{1mm} {\\bf v}$ or ${\\bf w}$).  \n",
    "\n",
    "The quantity or object that a vector represents differs dramatically by application.  In data science it's typical for a vector to genually represent a list of values.  Consider the vector \n",
    "\n",
    "$$\n",
    "{\\bf w} = \n",
    "\\mymat{\n",
    "5 \\\\\n",
    "250,000 \\\\\n",
    "95,000\\\\\n",
    "4 \n",
    "}\n",
    "$$\n",
    "\n",
    "The vector ${\\bf w}$ might represent responses to a survey, where each entry represents the answer to a particular question.  For instance, the first entry of ${\\bf w}$ might be the number of people in the household, the second entry might be the value of their home, the third might be the household income, and the fourth might be the number of years of college education members of the household have had.\n",
    "\n",
    "OK, so vectors are a handy way of storing lists of information, but there's not really any math there.  We want to do things like add, subtract, and multiply vectors.  Let's start with adding.  \n",
    "\n",
    "There are a couple of simple rules for adding vectors. The first is that you can only add vectors if they have the same length.  The second is that vector addition is **element-wise**, meaning that to add two vectors ${\\bf u}$ and ${\\bf v}$ you add their corresponding elements together.  \n",
    "\n",
    "$$\n",
    "{\\bf u} + {\\bf v} = \n",
    "\\mymat{\n",
    "u_1 \\\\\n",
    "u_2 \\\\\n",
    "u_3 \\\\ \n",
    "}\n",
    "+\n",
    "\\mymat{\n",
    "v_1 \\\\\n",
    "v_2 \\\\\n",
    "v_3 \\\\ \n",
    "}\n",
    "= \n",
    "\\mymat{\n",
    "u_1 + v_1 \\\\\n",
    "u_2 + v_2 \\\\\n",
    "u_3 + v_3 \\\\ \n",
    "}\n",
    "$$\n",
    "\n",
    "Note that we reprsent the individual elements of a vector using the same non-bold letter as the vector's name with subscripts indicating the position in the vector. \n",
    "\n",
    "OK, so why does this work?  It's best illustrated with an example: \n",
    "\n",
    "###Example 1\n",
    "Suppose that a produce delivery service has two trucks, cleverly named Truck ${\\bf x}$ and ${\\bf y}$.  Suppose that Truck ${\\bf x}$ can hold 5 crates of apples, 4 crates of oranges, and 3 crates of bananas.  Truck ${\\bf y}$ is a bit bigger, so it can hold 7 crates of apples, 5 crates of oranges, and 4 crates of bananas.  We can represent the capacity of each truck using vectors: \n",
    "\n",
    "$$\n",
    "\\bx = \n",
    "\\mymat{\n",
    "5 \\\\\n",
    "4 \\\\\n",
    "3 \n",
    "},\n",
    "\\quad \\quad\n",
    "\\by = \n",
    "\\mymat{\n",
    "7 \\\\\n",
    "5 \\\\\n",
    "4\n",
    "}\n",
    "$$\n",
    "\n",
    "Suppose you send both trucks fully loaded to make a fruit delivery to one store.  How many crates of each fruit does the store receive?  \n",
    "\n",
    "Well, the answer seems pretty obvious, you need to add up the number of crates of each fruit.  This is exactly vector addition\n",
    "\n",
    "$$\n",
    "\\bx + \\by = \n",
    "\\mymat{\n",
    "5 \\\\\n",
    "4 \\\\\n",
    "3 \n",
    "}\n",
    "+\n",
    "\\mymat{\n",
    "7 \\\\\n",
    "5 \\\\\n",
    "4\n",
    "}\n",
    "= \n",
    "\\mymat{\n",
    "12 \\\\\n",
    "9 \\\\\n",
    "7\n",
    "}\n",
    "$$\n",
    "$\\square$"
   ]
  },
  {
   "cell_type": "markdown",
   "metadata": {},
   "source": [
    "We can also multiply vectors by scalars.  This is again done elementwise: \n",
    "\n",
    "$$\n",
    "c ~\\bx = c \n",
    "\\mymat{\n",
    "x_1 \\\\\n",
    "x_2 \\\\\n",
    "x_3 \n",
    "} = \n",
    "\\mymat{\n",
    "c x_1 \\\\\n",
    "cx_2 \\\\\n",
    "cx_3\n",
    "}\n",
    "$$\n",
    "\n",
    "###Example 2 \n",
    "Suppose a customer has a particularly large fruit order that requires Truck ${\\bf x}$ to make three trips to the location.  How many crates of each fruit does the order contain? \n",
    "\n",
    "$$\n",
    "3~\\bx = \n",
    "3 \\mymat{\n",
    "5 \\\\ \n",
    "4 \\\\\n",
    "3\n",
    "} =\n",
    "\\mymat{\n",
    "15 \\\\\n",
    "12 \\\\\n",
    "9\n",
    "}\n",
    "$$\n",
    "$\\square$\n",
    "\n",
    "###Example 3 \n",
    "Suppose that another customer has such a huge order that it requires multiple trips from each of the two trucks.  In particular the order requires 2 trips from Truck ${\\bf x}$ and 4 trips from Truck ${\\bf y}$.  How many crates of each fruit does this order contain? \n",
    "\n",
    "$$\n",
    "2~\\bx + 4~\\by = \n",
    "2\\mymat{\n",
    "5 \\\\ \n",
    "4 \\\\\n",
    "3 \\\\\n",
    "} + \n",
    "4 \\mymat{\n",
    "7 \\\\\n",
    "5 \\\\\n",
    "4\n",
    "} = \n",
    "\\mymat{\n",
    "10 \\\\ \n",
    "8 \\\\\n",
    "6 \\\\\n",
    "} + \n",
    "\\mymat{\n",
    "28 \\\\\n",
    "20 \\\\\n",
    "16\n",
    "} = \n",
    "\\mymat{\n",
    "38 \\\\\n",
    "28 \\\\\n",
    "22\n",
    "}\n",
    "$$\n",
    "$\\square$\n",
    "\n",
    "This combination of vectors of the form $c~\\bx + d~\\by$ is called a **linear combination** and is at the heart of of just about everything in linear algebra. "
   ]
  },
  {
   "cell_type": "markdown",
   "metadata": {},
   "source": [
    "OK, so now we've seen the two most basic forms of vector arithmetic in the context of lists of items.  The other interpretations of vectors is the one used in physics.  We'll talk about it a lot in this course because it provides a geometric interpretation of vectors that can be extremely helpful. \n",
    "\n",
    "In physics vectors represent quantities that have a **magnitude** and a **direction**. Lots of things in physics get measured purely in amounts, and aren't represented by vectors.  Things like mass, time, temperature, etc. But a ton of stuff in physics have both magnitudes and directions.  Things like displacement, velocity, force, etc. \n",
    "\n",
    "Consider the vectors $\\bu$ and $\\bv$ given by \n",
    "\n",
    "$$\n",
    "\\bu = \n",
    "\\mymat{1 \\\\ 2}, \\quad\n",
    "\\bv = \n",
    "\\mymat{3 \\\\ 1}\n",
    "$$\n",
    "\n",
    "We can represent $\\bu$ and $\\bv$ graphically if we think of the first entry in each vector as an x-coordinate and the second entry as a y-coordinate.  We then draw the vector as an arrow that starts at the origin and ends at the point indicated by the entries.  The vectors $\\bu$ and $\\bv$ look as follows"
   ]
  },
  {
   "cell_type": "code",
   "execution_count": 29,
   "metadata": {
    "collapsed": false
   },
   "outputs": [
    {
     "data": {
      "image/png": "[encoded data removed]",
      "text/plain": [
       "Figure(PyObject <matplotlib.figure.Figure object at 0x7fe95b14b290>)"
      ]
     },
     "metadata": {},
     "output_type": "display_data"
    }
   ],
   "source": [
    "figure1()"
   ]
  },
  {
   "cell_type": "code",
   "execution_count": 63,
   "metadata": {
    "collapsed": false
   },
   "outputs": [
    {
     "data": {
      "image/png": "[encoded data removed]",
      "text/plain": [
       "Figure(PyObject <matplotlib.figure.Figure object at 0x7fe95a513c90>)"
      ]
     },
     "metadata": {},
     "output_type": "display_data"
    }
   ],
   "source": [
    "figure2()"
   ]
  },
  {
   "cell_type": "markdown",
   "metadata": {},
   "source": [
    "<br><br><br><br><br><br><br><br>"
   ]
  }
 ],
 "metadata": {
  "kernelspec": {
   "display_name": "Julia 0.3.11",
   "language": "julia",
   "name": "julia-0.3"
  },
  "language_info": {
   "name": "julia",
   "version": "0.3.11"
  }
 },
 "nbformat": 4,
 "nbformat_minor": 0
}
